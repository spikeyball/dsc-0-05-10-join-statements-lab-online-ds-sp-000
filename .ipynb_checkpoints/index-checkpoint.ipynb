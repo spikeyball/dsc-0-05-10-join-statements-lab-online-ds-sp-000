{
 "cells": [
  {
   "cell_type": "markdown",
   "metadata": {},
   "source": [
    "# Join Statements"
   ]
  },
  {
   "cell_type": "markdown",
   "metadata": {},
   "source": [
    "## Introduction"
   ]
  },
  {
   "cell_type": "markdown",
   "metadata": {},
   "source": [
    "In this lab, you'll practice your knowledge on Join statements."
   ]
  },
  {
   "cell_type": "markdown",
   "metadata": {},
   "source": [
    "## Objectives"
   ]
  },
  {
   "cell_type": "markdown",
   "metadata": {},
   "source": [
    "You will be able to:\n",
    "- Write queries that make use of various types of Joins\n",
    "- Join tables using foreign keys"
   ]
  },
  {
   "cell_type": "markdown",
   "metadata": {},
   "source": [
    "## CRM Schema\n",
    "\n",
    "In almost all cases, rather then just working with a single table we will typically need data from multiple tables. \n",
    "Doing this requires the use of **joins ** using shared columns from the two tables. \n",
    "\n",
    "In this lab, we'll use the same Customer Relationship Management (CRM) database we used in our lecture before!\n",
    "<img src='Database-Schema.png' width=550>"
   ]
  },
  {
   "cell_type": "markdown",
   "metadata": {},
   "source": [
    "## Connecting to the Database\n",
    "Import the necessary packages and connect to the database **data.sqlite**."
   ]
  },
  {
   "cell_type": "code",
   "execution_count": 3,
   "metadata": {},
   "outputs": [],
   "source": [
    "#Your code here\n",
    "import sqlite3\n",
    "import pandas as pd\n",
    "connection = sqlite3.connect('data.sqlite', detect_types=sqlite3.PARSE_COLNAMES)\n",
    "cursor = connection.cursor()"
   ]
  },
  {
   "cell_type": "markdown",
   "metadata": {},
   "source": [
    "## Display the names of all the employees in Boston."
   ]
  },
  {
   "cell_type": "code",
   "execution_count": 9,
   "metadata": {},
   "outputs": [
    {
     "data": {
      "text/html": [
       "<div>\n",
       "<style scoped>\n",
       "    .dataframe tbody tr th:only-of-type {\n",
       "        vertical-align: middle;\n",
       "    }\n",
       "\n",
       "    .dataframe tbody tr th {\n",
       "        vertical-align: top;\n",
       "    }\n",
       "\n",
       "    .dataframe thead th {\n",
       "        text-align: right;\n",
       "    }\n",
       "</style>\n",
       "<table border=\"1\" class=\"dataframe\">\n",
       "  <thead>\n",
       "    <tr style=\"text-align: right;\">\n",
       "      <th></th>\n",
       "      <th>employeeNumber</th>\n",
       "      <th>lastName</th>\n",
       "      <th>firstName</th>\n",
       "      <th>extension</th>\n",
       "      <th>email</th>\n",
       "      <th>officeCode</th>\n",
       "      <th>reportsTo</th>\n",
       "      <th>jobTitle</th>\n",
       "      <th>officeCode</th>\n",
       "      <th>city</th>\n",
       "      <th>phone</th>\n",
       "      <th>addressLine1</th>\n",
       "      <th>addressLine2</th>\n",
       "      <th>state</th>\n",
       "      <th>country</th>\n",
       "      <th>postalCode</th>\n",
       "      <th>territory</th>\n",
       "    </tr>\n",
       "  </thead>\n",
       "  <tbody>\n",
       "    <tr>\n",
       "      <th>8</th>\n",
       "      <td>1188</td>\n",
       "      <td>Firrelli</td>\n",
       "      <td>Julie</td>\n",
       "      <td>x2173</td>\n",
       "      <td>jfirrelli@classicmodelcars.com</td>\n",
       "      <td>2</td>\n",
       "      <td>1143</td>\n",
       "      <td>Sales Rep</td>\n",
       "      <td>2</td>\n",
       "      <td>Boston</td>\n",
       "      <td>+1 215 837 0825</td>\n",
       "      <td>1550 Court Place</td>\n",
       "      <td>Suite 102</td>\n",
       "      <td>MA</td>\n",
       "      <td>USA</td>\n",
       "      <td>02107</td>\n",
       "      <td>NA</td>\n",
       "    </tr>\n",
       "    <tr>\n",
       "      <th>9</th>\n",
       "      <td>1216</td>\n",
       "      <td>Patterson</td>\n",
       "      <td>Steve</td>\n",
       "      <td>x4334</td>\n",
       "      <td>spatterson@classicmodelcars.com</td>\n",
       "      <td>2</td>\n",
       "      <td>1143</td>\n",
       "      <td>Sales Rep</td>\n",
       "      <td>2</td>\n",
       "      <td>Boston</td>\n",
       "      <td>+1 215 837 0825</td>\n",
       "      <td>1550 Court Place</td>\n",
       "      <td>Suite 102</td>\n",
       "      <td>MA</td>\n",
       "      <td>USA</td>\n",
       "      <td>02107</td>\n",
       "      <td>NA</td>\n",
       "    </tr>\n",
       "  </tbody>\n",
       "</table>\n",
       "</div>"
      ],
      "text/plain": [
       "  employeeNumber   lastName firstName extension  \\\n",
       "8           1188   Firrelli     Julie     x2173   \n",
       "9           1216  Patterson     Steve     x4334   \n",
       "\n",
       "                             email officeCode reportsTo   jobTitle officeCode  \\\n",
       "8   jfirrelli@classicmodelcars.com          2      1143  Sales Rep          2   \n",
       "9  spatterson@classicmodelcars.com          2      1143  Sales Rep          2   \n",
       "\n",
       "     city            phone      addressLine1 addressLine2 state country  \\\n",
       "8  Boston  +1 215 837 0825  1550 Court Place    Suite 102    MA     USA   \n",
       "9  Boston  +1 215 837 0825  1550 Court Place    Suite 102    MA     USA   \n",
       "\n",
       "  postalCode territory  \n",
       "8      02107        NA  \n",
       "9      02107        NA  "
      ]
     },
     "execution_count": 9,
     "metadata": {},
     "output_type": "execute_result"
    }
   ],
   "source": [
    "#Your code here\n",
    "cursor.execute('''SELECT * FROM employees\n",
    "JOIN offices\n",
    "ON employees.officeCode = offices.officeCode;''')\n",
    "\n",
    "df = pd.DataFrame(cursor.fetchall())\n",
    "df.columns = [i[0] for i in cursor.description]\n",
    "df[df['city'] == 'Boston']"
   ]
  },
  {
   "cell_type": "markdown",
   "metadata": {},
   "source": [
    "## Do any offices have no employees?"
   ]
  },
  {
   "cell_type": "code",
   "execution_count": 14,
   "metadata": {},
   "outputs": [
    {
     "data": {
      "text/plain": [
       "False"
      ]
     },
     "execution_count": 14,
     "metadata": {},
     "output_type": "execute_result"
    }
   ],
   "source": [
    "#Your code here\n",
    "df['employeeNumber'].isnull().any()"
   ]
  },
  {
   "cell_type": "markdown",
   "metadata": {},
   "source": [
    "## Write 3 Questions of your own and answer them"
   ]
  },
  {
   "cell_type": "code",
   "execution_count": 46,
   "metadata": {},
   "outputs": [
    {
     "data": {
      "text/html": [
       "<div>\n",
       "<style scoped>\n",
       "    .dataframe tbody tr th:only-of-type {\n",
       "        vertical-align: middle;\n",
       "    }\n",
       "\n",
       "    .dataframe tbody tr th {\n",
       "        vertical-align: top;\n",
       "    }\n",
       "\n",
       "    .dataframe thead th {\n",
       "        text-align: right;\n",
       "    }\n",
       "</style>\n",
       "<table border=\"1\" class=\"dataframe\">\n",
       "  <thead>\n",
       "    <tr style=\"text-align: right;\">\n",
       "      <th></th>\n",
       "      <th>city</th>\n",
       "      <th>employeeNumber</th>\n",
       "    </tr>\n",
       "  </thead>\n",
       "  <tbody>\n",
       "    <tr>\n",
       "      <th>4</th>\n",
       "      <td>San Francisco</td>\n",
       "      <td>6</td>\n",
       "    </tr>\n",
       "    <tr>\n",
       "      <th>3</th>\n",
       "      <td>Paris</td>\n",
       "      <td>5</td>\n",
       "    </tr>\n",
       "    <tr>\n",
       "      <th>5</th>\n",
       "      <td>Sydney</td>\n",
       "      <td>4</td>\n",
       "    </tr>\n",
       "    <tr>\n",
       "      <th>0</th>\n",
       "      <td>Boston</td>\n",
       "      <td>2</td>\n",
       "    </tr>\n",
       "    <tr>\n",
       "      <th>1</th>\n",
       "      <td>London</td>\n",
       "      <td>2</td>\n",
       "    </tr>\n",
       "    <tr>\n",
       "      <th>2</th>\n",
       "      <td>NYC</td>\n",
       "      <td>2</td>\n",
       "    </tr>\n",
       "    <tr>\n",
       "      <th>6</th>\n",
       "      <td>Tokyo</td>\n",
       "      <td>2</td>\n",
       "    </tr>\n",
       "  </tbody>\n",
       "</table>\n",
       "</div>"
      ],
      "text/plain": [
       "            city  employeeNumber\n",
       "4  San Francisco               6\n",
       "3          Paris               5\n",
       "5         Sydney               4\n",
       "0         Boston               2\n",
       "1         London               2\n",
       "2            NYC               2\n",
       "6          Tokyo               2"
      ]
     },
     "execution_count": 46,
     "metadata": {},
     "output_type": "execute_result"
    }
   ],
   "source": [
    "# Answers will vary\n",
    "# How many different employees are at each office?\n",
    "emp_by_office = df.groupby('city', sort=True)['employeeNumber'].count().reset_index()\n",
    "emp_by_office.sort_values('employeeNumber', ascending = False)"
   ]
  },
  {
   "cell_type": "code",
   "execution_count": 85,
   "metadata": {},
   "outputs": [
    {
     "data": {
      "text/html": [
       "<div>\n",
       "<style scoped>\n",
       "    .dataframe tbody tr th:only-of-type {\n",
       "        vertical-align: middle;\n",
       "    }\n",
       "\n",
       "    .dataframe tbody tr th {\n",
       "        vertical-align: top;\n",
       "    }\n",
       "\n",
       "    .dataframe thead th {\n",
       "        text-align: right;\n",
       "    }\n",
       "</style>\n",
       "<table border=\"1\" class=\"dataframe\">\n",
       "  <thead>\n",
       "    <tr style=\"text-align: right;\">\n",
       "      <th>jobTitle</th>\n",
       "      <th>President</th>\n",
       "      <th>Sale Manager (EMEA)</th>\n",
       "      <th>Sales Manager (APAC)</th>\n",
       "      <th>Sales Manager (NA)</th>\n",
       "      <th>Sales Rep</th>\n",
       "      <th>VP Marketing</th>\n",
       "      <th>VP Sales</th>\n",
       "    </tr>\n",
       "    <tr>\n",
       "      <th>city</th>\n",
       "      <th></th>\n",
       "      <th></th>\n",
       "      <th></th>\n",
       "      <th></th>\n",
       "      <th></th>\n",
       "      <th></th>\n",
       "      <th></th>\n",
       "    </tr>\n",
       "  </thead>\n",
       "  <tbody>\n",
       "    <tr>\n",
       "      <th>Boston</th>\n",
       "      <td>NaN</td>\n",
       "      <td>NaN</td>\n",
       "      <td>NaN</td>\n",
       "      <td>NaN</td>\n",
       "      <td>2.0</td>\n",
       "      <td>NaN</td>\n",
       "      <td>NaN</td>\n",
       "    </tr>\n",
       "    <tr>\n",
       "      <th>London</th>\n",
       "      <td>NaN</td>\n",
       "      <td>NaN</td>\n",
       "      <td>NaN</td>\n",
       "      <td>NaN</td>\n",
       "      <td>2.0</td>\n",
       "      <td>NaN</td>\n",
       "      <td>NaN</td>\n",
       "    </tr>\n",
       "    <tr>\n",
       "      <th>NYC</th>\n",
       "      <td>NaN</td>\n",
       "      <td>NaN</td>\n",
       "      <td>NaN</td>\n",
       "      <td>NaN</td>\n",
       "      <td>2.0</td>\n",
       "      <td>NaN</td>\n",
       "      <td>NaN</td>\n",
       "    </tr>\n",
       "    <tr>\n",
       "      <th>Paris</th>\n",
       "      <td>NaN</td>\n",
       "      <td>1.0</td>\n",
       "      <td>NaN</td>\n",
       "      <td>NaN</td>\n",
       "      <td>4.0</td>\n",
       "      <td>NaN</td>\n",
       "      <td>NaN</td>\n",
       "    </tr>\n",
       "    <tr>\n",
       "      <th>San Francisco</th>\n",
       "      <td>1.0</td>\n",
       "      <td>NaN</td>\n",
       "      <td>NaN</td>\n",
       "      <td>1.0</td>\n",
       "      <td>2.0</td>\n",
       "      <td>1.0</td>\n",
       "      <td>1.0</td>\n",
       "    </tr>\n",
       "    <tr>\n",
       "      <th>Sydney</th>\n",
       "      <td>NaN</td>\n",
       "      <td>NaN</td>\n",
       "      <td>1.0</td>\n",
       "      <td>NaN</td>\n",
       "      <td>3.0</td>\n",
       "      <td>NaN</td>\n",
       "      <td>NaN</td>\n",
       "    </tr>\n",
       "    <tr>\n",
       "      <th>Tokyo</th>\n",
       "      <td>NaN</td>\n",
       "      <td>NaN</td>\n",
       "      <td>NaN</td>\n",
       "      <td>NaN</td>\n",
       "      <td>2.0</td>\n",
       "      <td>NaN</td>\n",
       "      <td>NaN</td>\n",
       "    </tr>\n",
       "  </tbody>\n",
       "</table>\n",
       "</div>"
      ],
      "text/plain": [
       "jobTitle       President  Sale Manager (EMEA)  Sales Manager (APAC)  \\\n",
       "city                                                                  \n",
       "Boston               NaN                  NaN                   NaN   \n",
       "London               NaN                  NaN                   NaN   \n",
       "NYC                  NaN                  NaN                   NaN   \n",
       "Paris                NaN                  1.0                   NaN   \n",
       "San Francisco        1.0                  NaN                   NaN   \n",
       "Sydney               NaN                  NaN                   1.0   \n",
       "Tokyo                NaN                  NaN                   NaN   \n",
       "\n",
       "jobTitle       Sales Manager (NA)  Sales Rep  VP Marketing  VP Sales  \n",
       "city                                                                  \n",
       "Boston                        NaN        2.0           NaN       NaN  \n",
       "London                        NaN        2.0           NaN       NaN  \n",
       "NYC                           NaN        2.0           NaN       NaN  \n",
       "Paris                         NaN        4.0           NaN       NaN  \n",
       "San Francisco                 1.0        2.0           1.0       1.0  \n",
       "Sydney                        NaN        3.0           NaN       NaN  \n",
       "Tokyo                         NaN        2.0           NaN       NaN  "
      ]
     },
     "execution_count": 85,
     "metadata": {},
     "output_type": "execute_result"
    }
   ],
   "source": [
    "# What's the main office?\n",
    "df.pivot_table(values='employeeNumber', index='city', columns='jobTitle', aggfunc=lambda x: len(x.unique()))\n",
    "\n",
    "# Looks like it is San Francisco, as that is where the President, VP, Marketing, etc. reside"
   ]
  },
  {
   "cell_type": "code",
   "execution_count": 93,
   "metadata": {},
   "outputs": [
    {
     "data": {
      "text/html": [
       "<div>\n",
       "<style scoped>\n",
       "    .dataframe tbody tr th:only-of-type {\n",
       "        vertical-align: middle;\n",
       "    }\n",
       "\n",
       "    .dataframe tbody tr th {\n",
       "        vertical-align: top;\n",
       "    }\n",
       "\n",
       "    .dataframe thead th {\n",
       "        text-align: right;\n",
       "    }\n",
       "</style>\n",
       "<table border=\"1\" class=\"dataframe\">\n",
       "  <thead>\n",
       "    <tr style=\"text-align: right;\">\n",
       "      <th>reportsTo</th>\n",
       "      <th></th>\n",
       "      <th>1002</th>\n",
       "      <th>1056</th>\n",
       "      <th>1088</th>\n",
       "      <th>1102</th>\n",
       "      <th>1143</th>\n",
       "      <th>1621</th>\n",
       "    </tr>\n",
       "    <tr>\n",
       "      <th>jobTitle</th>\n",
       "      <th></th>\n",
       "      <th></th>\n",
       "      <th></th>\n",
       "      <th></th>\n",
       "      <th></th>\n",
       "      <th></th>\n",
       "      <th></th>\n",
       "    </tr>\n",
       "  </thead>\n",
       "  <tbody>\n",
       "    <tr>\n",
       "      <th>President</th>\n",
       "      <td>1.0</td>\n",
       "      <td>NaN</td>\n",
       "      <td>NaN</td>\n",
       "      <td>NaN</td>\n",
       "      <td>NaN</td>\n",
       "      <td>NaN</td>\n",
       "      <td>NaN</td>\n",
       "    </tr>\n",
       "    <tr>\n",
       "      <th>Sale Manager (EMEA)</th>\n",
       "      <td>NaN</td>\n",
       "      <td>NaN</td>\n",
       "      <td>1.0</td>\n",
       "      <td>NaN</td>\n",
       "      <td>NaN</td>\n",
       "      <td>NaN</td>\n",
       "      <td>NaN</td>\n",
       "    </tr>\n",
       "    <tr>\n",
       "      <th>Sales Manager (APAC)</th>\n",
       "      <td>NaN</td>\n",
       "      <td>NaN</td>\n",
       "      <td>1.0</td>\n",
       "      <td>NaN</td>\n",
       "      <td>NaN</td>\n",
       "      <td>NaN</td>\n",
       "      <td>NaN</td>\n",
       "    </tr>\n",
       "    <tr>\n",
       "      <th>Sales Manager (NA)</th>\n",
       "      <td>NaN</td>\n",
       "      <td>NaN</td>\n",
       "      <td>1.0</td>\n",
       "      <td>NaN</td>\n",
       "      <td>NaN</td>\n",
       "      <td>NaN</td>\n",
       "      <td>NaN</td>\n",
       "    </tr>\n",
       "    <tr>\n",
       "      <th>Sales Rep</th>\n",
       "      <td>NaN</td>\n",
       "      <td>NaN</td>\n",
       "      <td>1.0</td>\n",
       "      <td>3.0</td>\n",
       "      <td>6.0</td>\n",
       "      <td>6.0</td>\n",
       "      <td>1.0</td>\n",
       "    </tr>\n",
       "    <tr>\n",
       "      <th>VP Marketing</th>\n",
       "      <td>NaN</td>\n",
       "      <td>1.0</td>\n",
       "      <td>NaN</td>\n",
       "      <td>NaN</td>\n",
       "      <td>NaN</td>\n",
       "      <td>NaN</td>\n",
       "      <td>NaN</td>\n",
       "    </tr>\n",
       "    <tr>\n",
       "      <th>VP Sales</th>\n",
       "      <td>NaN</td>\n",
       "      <td>1.0</td>\n",
       "      <td>NaN</td>\n",
       "      <td>NaN</td>\n",
       "      <td>NaN</td>\n",
       "      <td>NaN</td>\n",
       "      <td>NaN</td>\n",
       "    </tr>\n",
       "  </tbody>\n",
       "</table>\n",
       "</div>"
      ],
      "text/plain": [
       "reportsTo                  1002  1056  1088  1102  1143  1621\n",
       "jobTitle                                                     \n",
       "President             1.0   NaN   NaN   NaN   NaN   NaN   NaN\n",
       "Sale Manager (EMEA)   NaN   NaN   1.0   NaN   NaN   NaN   NaN\n",
       "Sales Manager (APAC)  NaN   NaN   1.0   NaN   NaN   NaN   NaN\n",
       "Sales Manager (NA)    NaN   NaN   1.0   NaN   NaN   NaN   NaN\n",
       "Sales Rep             NaN   NaN   1.0   3.0   6.0   6.0   1.0\n",
       "VP Marketing          NaN   1.0   NaN   NaN   NaN   NaN   NaN\n",
       "VP Sales              NaN   1.0   NaN   NaN   NaN   NaN   NaN"
      ]
     },
     "execution_count": 93,
     "metadata": {},
     "output_type": "execute_result"
    }
   ],
   "source": [
    "# Your code here\n",
    "df.pivot_table(index='jobTitle', columns='reportsTo', values='employeeNumber', aggfunc=lambda x: len(x.unique()))"
   ]
  },
  {
   "cell_type": "markdown",
   "metadata": {},
   "source": [
    "## Level Up: Display the names of each product each employee has sold."
   ]
  },
  {
   "cell_type": "code",
   "execution_count": 106,
   "metadata": {},
   "outputs": [
    {
     "data": {
      "text/plain": [
       "lastName\n",
       "Bondur       177\n",
       "Bott         236\n",
       "Castillo     272\n",
       "Firrelli     124\n",
       "Fixter       185\n",
       "Gerard       114\n",
       "Hernandez    396\n",
       "Jennings     331\n",
       "Jones        220\n",
       "Marsh        185\n",
       "Nishi        137\n",
       "Patterson    152\n",
       "Thompson     114\n",
       "Tseng        142\n",
       "Vanauf       211\n",
       "Name: productName, dtype: int64"
      ]
     },
     "execution_count": 106,
     "metadata": {},
     "output_type": "execute_result"
    }
   ],
   "source": [
    "# Your code here\n",
    "cursor.execute(\"\"\"SELECT firstName, lastName, productName\n",
    "                      FROM employees e\n",
    "                      JOIN customers c\n",
    "                      ON e.employeeNumber = c.salesRepEmployeeNumber\n",
    "                      JOIN orders o\n",
    "                      USING (customerNumber)\n",
    "                      JOIN orderdetails od\n",
    "                      USING (orderNumber)\n",
    "                      JOIN products p\n",
    "                      USING (productCode);\"\"\")\n",
    "df = pd.DataFrame(cursor.fetchall())\n",
    "df.columns = [i[0] for i in cursor.description]\n",
    "df.groupby('lastName')['productName'].count()"
   ]
  },
  {
   "cell_type": "markdown",
   "metadata": {},
   "source": [
    "## Level Up: Display the Number of Products each Employee Has sold"
   ]
  },
  {
   "cell_type": "code",
   "execution_count": 116,
   "metadata": {},
   "outputs": [
    {
     "data": {
      "text/plain": [
       "lastName  productName                              \n",
       "Bondur    1982 Ducati 996 R                            5\n",
       "          1957 Vespa GS150                             4\n",
       "          1961 Chevrolet Impala                        4\n",
       "          2001 Ferrari Enzo                            4\n",
       "          2002 Yamaha YZR M1                           4\n",
       "          1932 Model A Ford J-Coupe                    3\n",
       "          1939 Chevrolet Deluxe Coupe                  3\n",
       "          1957 Corvette Convertible                    3\n",
       "          1962 City of Detroit Streetcar               3\n",
       "          1969 Dodge Super Bee                         3\n",
       "          1969 Ford Falcon                             3\n",
       "          1969 Harley Davidson Ultimate Chopper        3\n",
       "          1974 Ducati 350 Mk3 Desmo                    3\n",
       "          1976 Ford Gran Torino                        3\n",
       "          1982 Camaro Z28                              3\n",
       "          1982 Ducati 900 Monster                      3\n",
       "          2002 Suzuki XREO                             3\n",
       "          Diamond T620 Semi-Skirted Tanker             3\n",
       "          1903 Ford Model A                            2\n",
       "          1911 Ford Town Car                           2\n",
       "          1917 Grand Touring Sedan                     2\n",
       "          1926 Ford Fire Engine                        2\n",
       "          1928 Mercedes-Benz SSK                       2\n",
       "          1932 Alfa Romeo 8C2300 Spider Sport          2\n",
       "          1936 Harley Davidson El Knucklehead          2\n",
       "          1936 Mercedes-Benz 500K Special Roadster     2\n",
       "          1937 Lincoln Berline                         2\n",
       "          1938 Cadillac V-16 Presidential Limousine    2\n",
       "          1940s Ford truck                             2\n",
       "          1948 Porsche Type 356 Roadster               2\n",
       "                                                      ..\n",
       "Vanauf    1941 Chevrolet Special Deluxe Cabriolet      1\n",
       "          1948 Porsche 356-A Roadster                  1\n",
       "          1949 Jaguar XK 120                           1\n",
       "          1952 Alpine Renault 1300                     1\n",
       "          1956 Porsche 356A Coupe                      1\n",
       "          1957 Corvette Convertible                    1\n",
       "          1957 Vespa GS150                             1\n",
       "          1961 Chevrolet Impala                        1\n",
       "          1962 LanciaA Delta 16V                       1\n",
       "          1962 Volkswagen Microbus                     1\n",
       "          1966 Shelby Cobra 427 S/C                    1\n",
       "          1968 Dodge Charger                           1\n",
       "          1968 Ford Mustang                            1\n",
       "          1969 Chevrolet Camaro Z28                    1\n",
       "          1969 Corvair Monza                           1\n",
       "          1969 Dodge Charger                           1\n",
       "          1969 Dodge Super Bee                         1\n",
       "          1969 Ford Falcon                             1\n",
       "          1970 Chevy Chevelle SS 454                   1\n",
       "          1970 Plymouth Hemi Cuda                      1\n",
       "          1971 Alpine Renault 1600s                    1\n",
       "          1974 Ducati 350 Mk3 Desmo                    1\n",
       "          1980s Black Hawk Helicopter                  1\n",
       "          1980’s GM Manhattan Express                  1\n",
       "          1982 Ducati 996 R                            1\n",
       "          2001 Ferrari Enzo                            1\n",
       "          2002 Chevy Corvette                          1\n",
       "          2002 Yamaha YZR M1                           1\n",
       "          Collectable Wooden Train                     1\n",
       "          The Mayflower                                1\n",
       "Name: productName, Length: 1368, dtype: int64"
      ]
     },
     "execution_count": 116,
     "metadata": {},
     "output_type": "execute_result"
    }
   ],
   "source": [
    "#Your code here\n",
    "df.groupby(['lastName'])['productName'].value_counts()"
   ]
  },
  {
   "cell_type": "markdown",
   "metadata": {},
   "source": [
    "## Summary"
   ]
  },
  {
   "cell_type": "markdown",
   "metadata": {},
   "source": [
    "Congrats! You now know how to use Join statements, along with leveraging your foreign keys knowledge!"
   ]
  },
  {
   "cell_type": "code",
   "execution_count": null,
   "metadata": {},
   "outputs": [],
   "source": [
    "# Finished January 11, 2019"
   ]
  }
 ],
 "metadata": {
  "kernelspec": {
   "display_name": "Python 3",
   "language": "python",
   "name": "python3"
  },
  "language_info": {
   "codemirror_mode": {
    "name": "ipython",
    "version": 3
   },
   "file_extension": ".py",
   "mimetype": "text/x-python",
   "name": "python",
   "nbconvert_exporter": "python",
   "pygments_lexer": "ipython3",
   "version": "3.6.6"
  }
 },
 "nbformat": 4,
 "nbformat_minor": 2
}
